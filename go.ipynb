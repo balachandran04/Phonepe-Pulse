{
 "cells": [
  {
   "cell_type": "code",
   "execution_count": 1,
   "metadata": {},
   "outputs": [],
   "source": [
    "import pymysql\n",
    "import pandas as pd\n",
    "import streamlit as st\n",
    "from streamlit_option_menu import option_menu\n",
    "import plotly.express as px\n",
    "import requests\n",
    "import json\n",
    "\n",
    "\n",
    "\n",
    "def conncetion():\n",
    "    conn = pymysql.connect(host=\"localhost\",user=\"root\",passwd=\"admin@123\",database=\"phonepe\")\n",
    "    return conn\n",
    "\n",
    "conn = conncetion()\n",
    "cursor = conn.cursor()\n",
    "query = \"select * from agg_tran\"\n",
    "cursor.execute(query)\n",
    "lose = cursor.fetchall()\n",
    "\n",
    "data = pd.DataFrame(lose,columns=[\"State\",\"Year\",\"Quater\",\"transaction_type\",\"transation_count\",\"transation_amount\"])\n",
    "\n",
    "\n",
    "\n",
    "\n",
    "\n",
    "            \n",
    "       "
   ]
  },
  {
   "cell_type": "markdown",
   "metadata": {},
   "source": []
  },
  {
   "cell_type": "code",
   "execution_count": null,
   "metadata": {},
   "outputs": [],
   "source": [
    "cursor = conn.cursor()\n",
    "query = \"select * from agg_user\"\n",
    "cursor.execute(query)\n",
    "result = cursor.fetchall()\n",
    "agg_user = pd.DataFrame(result,columns=[\"State\",\"Year\",\"Quater\",\"brand\",\"transation_count\",\"pencentage\"])\n",
    "\n"
   ]
  },
  {
   "cell_type": "code",
   "execution_count": null,
   "metadata": {},
   "outputs": [],
   "source": [
    "cursor = conn.cursor()\n",
    "query = \"select * from map_tran\"\n",
    "cursor.execute(query)\n",
    "result = cursor.fetchall()\n",
    "\n",
    "map_tran = pd.DataFrame(result,columns=[\"State\",\"Year\",\"Quater\",\"District\",\"transation_count\",\"transation_amount\"])\n"
   ]
  },
  {
   "cell_type": "code",
   "execution_count": null,
   "metadata": {},
   "outputs": [],
   "source": [
    "cursor = conn.cursor()\n",
    "query = \"select * from map_user\"\n",
    "cursor.execute(query)\n",
    "result = cursor.fetchall()\n",
    "\n",
    "map_user = pd.DataFrame(result,columns=[\"State\",\"Year\",\"Quater\",\"District\",\"register_user\",\"appopen\"])\n",
    "\n"
   ]
  },
  {
   "cell_type": "code",
   "execution_count": null,
   "metadata": {},
   "outputs": [],
   "source": [
    "cursor = conn.cursor()\n",
    "query = \"select * from map_user\"\n",
    "cursor.execute(query)\n",
    "result = cursor.fetchall()\n",
    "\n",
    "map_user = pd.DataFrame(result,columns=[\"State\",\"Year\",\"Quater\",\"District\",\"register_user\",\"appopen\"])\n",
    "\n"
   ]
  },
  {
   "cell_type": "code",
   "execution_count": null,
   "metadata": {},
   "outputs": [],
   "source": [
    "cursor = conn.cursor()\n",
    "query = \"select * from top_user\"\n",
    "cursor.execute(query)\n",
    "result = cursor.fetchall()\n",
    "\n",
    "top_user = pd.DataFrame(result,columns=[\"State\",\"Year\",\"Quater\",\"pincode\",\"register_user\"])\n"
   ]
  },
  {
   "cell_type": "code",
   "execution_count": null,
   "metadata": {},
   "outputs": [],
   "source": [
    "def tran_count_amount(df ,year):\n",
    "    amounts = df[df[\"Year\"]== year]\n",
    "    amounts.reset_index(drop=True,inplace=True)\n",
    "\n",
    "    amountsg =  amounts.groupby(\"State\")[[\"transation_count\",\"transation_amount\"]].sum()\n",
    "    amountsg.reset_index(inplace=True)\n",
    "    fig = px.bar(amountsg,x=\"State\", y=\"transation_amount\",title=f\"{year} Transation amount\")\n",
    "    fig.show()\n",
    "    fig = px.bar(amountsg,x=\"State\", y=\"transation_count\", title=f\"{year} Transation count\")\n",
    "    fig.show()\n",
    "\n",
    "    url = \"https://gist.githubusercontent.com/jbrobst/56c13bbbf9d97d187fea01ca62ea5112/raw/e388c4cae20aa53cb5090210a42ebb9b765c0a36/india_states.geojson\"\n",
    "    response = requests.get(url)\n",
    "    data1 = json.loads(response.content)\n",
    "    state_name = []\n",
    "    for i in data1[\"features\"]:\n",
    "        state_name.append(i[\"properties\"][\"ST_NM\"])\n",
    "    state_name.sort()\n",
    "\n",
    "    fig_india = px.choropleth(amountsg, geojson=data1, locations=\"State\", featureidkey=\"properties.ST_NM\",\n",
    "                              color=\"transation_amount\",color_continuous_scale=\"Turbo\",\n",
    "                              range_color=(amountsg[\"transation_amount\"].min(),amountsg[\"transation_amount\"].max()),\n",
    "                              hover_name=\"State\",title=f\"{year} transation_amount\", fitbounds=\"locations\",\n",
    "                              width=600,height=650)\n",
    "    fig_india.update_geos(visible=False) \n",
    "    fig_india.show()\n",
    "    fig_india_2 = px.choropleth(amountsg, geojson=data1, locations=\"State\", featureidkey=\"properties.ST_NM\",\n",
    "                              color=\"transation_count\",color_continuous_scale=\"Turbo\",\n",
    "                              range_color=(amountsg[\"transation_count\"].min(),amountsg[\"transation_count\"].max()),\n",
    "                              hover_name=\"State\",title=f\"{year} transation_count\", fitbounds=\"locations\",\n",
    "                              width=600,height=650)\n",
    "    fig_india_2.update_geos(visible=False) \n",
    "    fig_india_2.show()\n",
    "\n",
    "    return amounts\n",
    "    \n",
    "\n",
    "    "
   ]
  },
  {
   "cell_type": "code",
   "execution_count": null,
   "metadata": {},
   "outputs": [],
   "source": [
    "def tran_count_amount_quater(df ,quater):\n",
    "    amounts = df[df[\"Quater\"]== quater]\n",
    "    amounts.reset_index(drop=True,inplace=True)\n",
    "\n",
    "    amountsg =  amounts.groupby(\"State\")[[\"transation_count\",\"transation_amount\"]].sum()\n",
    "    amountsg.reset_index(inplace=True)\n",
    "    fig = px.bar(amountsg,x=\"State\", y=\"transation_amount\",title=f\"{amounts['Year'].unique()} year  {quater} quater Transation amount\")\n",
    "    fig.show()\n",
    "    fig = px.bar(amountsg,x=\"State\", y=\"transation_count\", title=f\"{amounts['Year'].unique()} year  {quater} quater Transation count\")\n",
    "    fig.show()\n",
    "\n",
    "    url = \"https://gist.githubusercontent.com/jbrobst/56c13bbbf9d97d187fea01ca62ea5112/raw/e388c4cae20aa53cb5090210a42ebb9b765c0a36/india_states.geojson\"\n",
    "    response = requests.get(url)\n",
    "    data1 = json.loads(response.content)\n",
    "    state_name = []\n",
    "    for i in data1[\"features\"]:\n",
    "        state_name.append(i[\"properties\"][\"ST_NM\"])\n",
    "    state_name.sort()\n",
    "\n",
    "    fig_india = px.choropleth(amountsg, geojson=data1, locations=\"State\", featureidkey=\"properties.ST_NM\",\n",
    "                              color=\"transation_amount\",color_continuous_scale=\"Turbo\",\n",
    "                              range_color=(amountsg[\"transation_amount\"].min(),amountsg[\"transation_amount\"].max()),\n",
    "                              hover_name=\"State\",title=f\"{amounts['Year'].unique()} year {quater} quater transation_amount\", fitbounds=\"locations\",\n",
    "                              width=600,height=650)\n",
    "    fig_india.update_geos(visible=False) \n",
    "    fig_india.show()\n",
    "    fig_india_2 = px.choropleth(amountsg, geojson=data1, locations=\"State\", featureidkey=\"properties.ST_NM\",\n",
    "                              color=\"transation_count\",color_continuous_scale=\"Turbo\",\n",
    "                              range_color=(amountsg[\"transation_count\"].min(),amountsg[\"transation_count\"].max()),\n",
    "                              hover_name=\"State\",title=f\"{amounts['Year'].unique()} year {quater} quater transation_count\", fitbounds=\"locations\",\n",
    "                              width=600,height=650)\n",
    "    fig_india_2.update_geos(visible=False) \n",
    "    fig_india_2.show()\n",
    "    return amounts\n"
   ]
  },
  {
   "cell_type": "code",
   "execution_count": null,
   "metadata": {},
   "outputs": [],
   "source": [
    "agg_tran_tac_y = tran_count_amount(data,2023)\n"
   ]
  },
  {
   "cell_type": "code",
   "execution_count": null,
   "metadata": {},
   "outputs": [],
   "source": [
    "agg_tran_tac_y"
   ]
  },
  {
   "cell_type": "code",
   "execution_count": null,
   "metadata": {},
   "outputs": [],
   "source": [
    "def agg_tran_type(df,state):\n",
    "    trans_type = df[df[\"State\"] == state]\n",
    "    trans_type.reset_index(drop=True,inplace=True)\n",
    "    amountsg =  trans_type.groupby(\"transaction_type\")[[\"transation_count\",\"transation_amount\"]].sum()\n",
    "    amountsg.reset_index(inplace=True)\n",
    "    fig = px.pie(amountsg,names=\"transaction_type\",values=\"transation_amount\",\n",
    "                color_discrete_sequence=px.colors.qualitative.Set3,hole=0.5,width=600,height=600,title=f\"{state} of  transation amount \")\n",
    "    fig.show()\n",
    "    fig = px.pie(amountsg,names=\"transaction_type\",values=\"transation_count\",\n",
    "                color_discrete_sequence=px.colors.qualitative.Set3,hole=0.5,width=600,height=600,title=f\"{state} of transation count\")\n",
    "    fig.show()"
   ]
  },
  {
   "cell_type": "code",
   "execution_count": null,
   "metadata": {},
   "outputs": [],
   "source": [
    "agg_tran_type(agg_tran_tac_y,\"Tamil Nadu\")"
   ]
  },
  {
   "cell_type": "code",
   "execution_count": null,
   "metadata": {},
   "outputs": [],
   "source": []
  },
  {
   "cell_type": "code",
   "execution_count": null,
   "metadata": {},
   "outputs": [],
   "source": []
  },
  {
   "cell_type": "markdown",
   "metadata": {},
   "source": [
    "agg user\n"
   ]
  },
  {
   "cell_type": "code",
   "execution_count": null,
   "metadata": {},
   "outputs": [],
   "source": [
    "def agg_user_tran_bran(df,year):\n",
    "    agg_user_year = df[df[\"Year\"] == year]\n",
    "    agg_user_year.reset_index(drop=True,inplace=True)\n",
    "\n",
    "    aggugyb = pd.DataFrame(agg_user_year.groupby(\"brand\")[\"transation_count\"].sum())\n",
    "    aggugyb.reset_index(inplace=True)\n",
    "    fig_user = px.bar(aggugyb, x=\"brand\",y=\"transation_count\",title=\"Brand and Transation_count\",width=400,color_discrete_sequence=px.colors.sequential.haline_r)\n",
    "    fig_user.show()\n",
    "    return agg_user_year\n"
   ]
  },
  {
   "cell_type": "code",
   "execution_count": null,
   "metadata": {},
   "outputs": [],
   "source": [
    "agg_user_d = agg_user_tran_bran(agg_user,2022)"
   ]
  },
  {
   "cell_type": "code",
   "execution_count": null,
   "metadata": {},
   "outputs": [],
   "source": [
    "def agg_user_Qauter(df, quater):\n",
    "    agg_user_Q = df[df[\"Quater\"] == quater]\n",
    "    agg_user_Q.reset_index(drop=True,inplace=True)\n",
    "    aggugQ = pd.DataFrame(agg_user_Q.groupby(\"brand\")[\"transation_count\",].sum())\n",
    "    aggugQ.reset_index(inplace=True)\n",
    "    fig_user = px.bar(aggugQ, x=\"brand\",y=\"transation_count\",title=f\"{quater} quater of Brand and Transation_count\",width=400,color_discrete_sequence=px.colors.sequential.haline_r)\n",
    "    fig_user.show()\n",
    "    \n",
    "    return agg_user_Q"
   ]
  },
  {
   "cell_type": "code",
   "execution_count": null,
   "metadata": {},
   "outputs": [],
   "source": [
    "agg_user_S = agg_user_Qauter(agg_user,1)"
   ]
  },
  {
   "cell_type": "code",
   "execution_count": null,
   "metadata": {},
   "outputs": [],
   "source": [
    "agg_user_S"
   ]
  },
  {
   "cell_type": "code",
   "execution_count": null,
   "metadata": {},
   "outputs": [],
   "source": [
    "def agg_user_state(df,state):\n",
    "    agg_user = df[df[\"State\"] == state]\n",
    "    agg_user.reset_index(drop=True,inplace=True)\n",
    "    fig = px.line(agg_user, x=\"brand\", y=\"transation_count\", hover_data=\"pencentage\",title=f\"{state} of   brands transation count pencentage\")\n",
    "    fig.show()\n",
    "\n",
    "agg_user_state(agg_user_S,\"West Bengal\")"
   ]
  },
  {
   "cell_type": "markdown",
   "metadata": {},
   "source": [
    "Map\n"
   ]
  },
  {
   "cell_type": "markdown",
   "metadata": {},
   "source": [
    "Map trans"
   ]
  },
  {
   "cell_type": "code",
   "execution_count": null,
   "metadata": {},
   "outputs": [],
   "source": [
    "map_trans_y = tran_count_amount(map_tran,2023)"
   ]
  },
  {
   "cell_type": "code",
   "execution_count": null,
   "metadata": {},
   "outputs": [],
   "source": [
    "def map_tran_discrit(df,state):\n",
    "    trans_type = df[df[\"State\"] == state]\n",
    "    trans_type.reset_index(drop=True,inplace=True)\n",
    "    amountsg =  trans_type.groupby(\"District\")[[\"transation_count\",\"transation_amount\"]].sum()\n",
    "    amountsg.reset_index(inplace=True)\n",
    "    fig_1 = px.bar(amountsg,x=\"transation_amount\",y=\"District\",orientation=\"h\",color_discrete_sequence=px.colors.sequential.Magenta_r, title=f\"{state} of district and transation amount \")\n",
    "    fig_1.show()\n",
    "    fig_2 = px.bar(amountsg,x=\"transation_count\",y=\"District\",orientation=\"h\",color_discrete_sequence=px.colors.sequential.Magenta,title=f\"{state} of district and transation count \")\n",
    "    fig_2.show()\n",
    "    return trans_type"
   ]
  },
  {
   "cell_type": "code",
   "execution_count": null,
   "metadata": {},
   "outputs": [],
   "source": []
  },
  {
   "cell_type": "code",
   "execution_count": null,
   "metadata": {},
   "outputs": [],
   "source": [
    "map_tran_discrit(map_trans_y,\"West Bengal\")"
   ]
  },
  {
   "cell_type": "code",
   "execution_count": null,
   "metadata": {},
   "outputs": [],
   "source": [
    "map_tran_Q = tran_count_amount_quater(map_trans_y,1)"
   ]
  },
  {
   "cell_type": "markdown",
   "metadata": {},
   "source": [
    "Map User\n"
   ]
  },
  {
   "cell_type": "code",
   "execution_count": null,
   "metadata": {},
   "outputs": [],
   "source": [
    "def map_user_2(df,quater):\n",
    "    map_user_Q = df[df[\"Quater\"] == quater]\n",
    "    map_user_Q.reset_index(drop=True,inplace=True)\n",
    "\n",
    "    mapugq   = map_user_Q.groupby(\"State\")[[\"register_user\",\"appopen\"]].sum()\n",
    "    mapugq.reset_index(inplace=True)\n",
    "    fig = px.line(mapugq, x=\"State\", y=[\"register_user\",\"appopen\"],title=f\"{quater} of Register User And App Opens\" ,color_discrete_sequence=px.colors.sequential.Hot_r,width=1000,markers=True)\n",
    "    fig.show()\n",
    "    return map_user_Q"
   ]
  },
  {
   "cell_type": "code",
   "execution_count": null,
   "metadata": {},
   "outputs": [],
   "source": [
    "Map_user_Q = map_user_2(map_user,1)"
   ]
  },
  {
   "cell_type": "code",
   "execution_count": null,
   "metadata": {},
   "outputs": [],
   "source": [
    "Map_user_Q"
   ]
  },
  {
   "cell_type": "code",
   "execution_count": null,
   "metadata": {},
   "outputs": [],
   "source": [
    "def map_user_3(df,state):\n",
    "    map_user_S = df[df[\"State\"] ==state]\n",
    "    map_user_S.reset_index(drop=True,inplace=True)\n",
    "    fig_state = px.bar(map_user_S, x=\"register_user\", y=\"District\", orientation = \"h\",\n",
    "    title=\"Register User and District \", height=600, )\n",
    "    fig_state.show()\n",
    "    fig_state = px.bar(map_user_S, x=\"appopen\", y=\"District\", orientation = \"h\",\n",
    "    title=\"appopen User and District \", height=600, color_discrete_sequence=px.colors.sequential.Rainbow)\n",
    "    fig_state.show()\n",
    "\n",
    "\n",
    "map_user_3(Map_user_Q,\"West Bengal\")\n",
    "    \n",
    "    "
   ]
  },
  {
   "cell_type": "markdown",
   "metadata": {},
   "source": [
    "TOP trans\n"
   ]
  },
  {
   "cell_type": "code",
   "execution_count": null,
   "metadata": {},
   "outputs": [],
   "source": [
    "top_trans_y = tran_count_amount(top_tran,2023)"
   ]
  },
  {
   "cell_type": "code",
   "execution_count": null,
   "metadata": {},
   "outputs": [],
   "source": [
    "def top_tran_S(df,state):\n",
    "    top_trans_s = df[df[\"State\"] == state]\n",
    "    top_trans_s.reset_index(drop=True,inplace=True)\n",
    "    mapugs = top_trans_s.groupby(\"pincode\")[[\"transation_count\",\"transation_amount\"]].sum()\n",
    "    mapugs.reset_index(inplace=True)\n",
    "    fig_state = px.bar(top_trans_s, x=\"Quater\", y=\"transation_amount\", hover_data=\"pincode\" ,\n",
    "    title=\"transation amount  and District Picodes \", height=600, color_discrete_sequence=px.colors.sequential.Rainbow)\n",
    "    fig_state.show()\n",
    "    fig_state = px.bar(top_trans_s, x=\"Quater\", y=\"transation_count\", hover_data=\"pincode\" ,\n",
    "    title=\"transation count  and District Picodes \", height=600, color_discrete_sequence=px.colors.sequential.Rainbow)\n",
    "    fig_state.show()\n"
   ]
  },
  {
   "cell_type": "code",
   "execution_count": null,
   "metadata": {},
   "outputs": [],
   "source": [
    "top_tran_S(top_trans_y,\"West Bengal\")"
   ]
  },
  {
   "cell_type": "code",
   "execution_count": null,
   "metadata": {},
   "outputs": [],
   "source": [
    "tops_trans_q = tran_count_amount_quater(top_trans_y,1)"
   ]
  },
  {
   "cell_type": "code",
   "execution_count": null,
   "metadata": {},
   "outputs": [],
   "source": [
    "top_user\n"
   ]
  },
  {
   "cell_type": "markdown",
   "metadata": {},
   "source": [
    "Top User\n"
   ]
  },
  {
   "cell_type": "code",
   "execution_count": null,
   "metadata": {},
   "outputs": [],
   "source": [
    "def top_user_year(df,year):\n",
    "    top_user_Y = df[df[\"Year\"] == year]\n",
    "    top_user_Y.reset_index(drop=True,inplace=True)\n",
    "    topuy = pd.DataFrame(top_user_Y.groupby([\"State\", \"Quater\"])[\"register_user\"].sum())\n",
    "    topuy.reset_index(inplace=True)\n",
    "    fig_year = px.bar(topuy, x=\"State\",y=\"register_user\",title=f\"{year} of register user state and quaters\" ,color=\"Quater\",color_discrete_sequence=px.colors.sequential.Rainbow)\n",
    "    fig_year.show()\n",
    "    return top_user_Y"
   ]
  },
  {
   "cell_type": "code",
   "execution_count": null,
   "metadata": {},
   "outputs": [],
   "source": [
    "top_user_q = top_user_year(top_user,2022)"
   ]
  },
  {
   "cell_type": "code",
   "execution_count": null,
   "metadata": {},
   "outputs": [],
   "source": [
    "def top_user_s(df,state)\n",
    "    top_user_q = df[df[\"State\"] == state]\n",
    "    top_user_q.reset_index(drop=True,inplace=True)\n",
    "\n",
    "    fig_q = px.bar(top_user_q,x=\"Quater\",y=\"register_user\",color=\"register_user\",hover_data=\"pincode\",title=f\"{state} Register user\")\n",
    "    fig_q.show()"
   ]
  },
  {
   "cell_type": "code",
   "execution_count": null,
   "metadata": {},
   "outputs": [],
   "source": [
    "map_tran"
   ]
  },
  {
   "cell_type": "code",
   "execution_count": 4,
   "metadata": {},
   "outputs": [],
   "source": [
    "def query1():\n",
    "    query1 = \"\"\"SELECT state, SUM(Transacion_amount) AS Transacion_amount \n",
    "                FROM agg_tran \n",
    "                GROUP BY state \n",
    "                ORDER BY Transacion_amount\n",
    "                limit 10;\n",
    "                \"\"\"\n",
    "    cursor.execute(query1)\n",
    "    lose = cursor.fetchall()\n",
    "\n",
    "    df = pd.DataFrame(lose,columns=[\"State\",\"Transation_amount\"])\n",
    "    print(df)\n",
    "\n",
    "\n"
   ]
  },
  {
   "cell_type": "code",
   "execution_count": 5,
   "metadata": {},
   "outputs": [
    {
     "name": "stdout",
     "output_type": "stream",
     "text": [
      "                                State Transation_amount\n",
      "0                         Lakshadweep        1785781582\n",
      "1                   Andaman & Nicobar       39927731206\n",
      "2           andaman-&-nicobar-islands       39927731206\n",
      "3                             Mizoram       60576955768\n",
      "4                              Ladakh       98552437444\n",
      "5  dadra-&-nagar-haveli-&-daman-&-diu      116361815129\n",
      "6  Dadra & Nagar Haveli & Daman & Diu      116361815129\n",
      "7                              Sikkim      149964463596\n",
      "8                   Arunachal Pradesh      151999710965\n",
      "9                   arunachal-pradesh      151999710965\n"
     ]
    }
   ],
   "source": [
    "query1()"
   ]
  }
 ],
 "metadata": {
  "kernelspec": {
   "display_name": "Python 3 (ipykernel)",
   "language": "python",
   "name": "python3"
  },
  "language_info": {
   "codemirror_mode": {
    "name": "ipython",
    "version": 3
   },
   "file_extension": ".py",
   "mimetype": "text/x-python",
   "name": "python",
   "nbconvert_exporter": "python",
   "pygments_lexer": "ipython3",
   "version": "3.12.2"
  }
 },
 "nbformat": 4,
 "nbformat_minor": 4
}
